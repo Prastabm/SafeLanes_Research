{
 "cells": [
  {
   "cell_type": "code",
   "id": "initial_id",
   "metadata": {
    "collapsed": true,
    "ExecuteTime": {
     "end_time": "2025-04-21T14:03:10.179873Z",
     "start_time": "2025-04-21T14:03:09.992697Z"
    }
   },
   "source": [
    "import pandas as pd\n",
    "import numpy as np\n",
    "from sklearn.neighbors import BallTree\n",
    "from datetime import datetime\n"
   ],
   "outputs": [],
   "execution_count": 1
  },
  {
   "metadata": {
    "ExecuteTime": {
     "end_time": "2025-04-21T14:03:12.352061Z",
     "start_time": "2025-04-21T14:03:12.340673Z"
    }
   },
   "cell_type": "code",
   "source": [
    "class SafetyScoreModel:\n",
    "    \"\"\"\n",
    "    Computes a safety score (1-10) for given coordinates and time of day,\n",
    "    based on proximity to crime hotspots and time-sensitive risk factors.\n",
    "    \"\"\"\n",
    "    def __init__(self, hotspots_csv: str = \"data/crime_with_hotspots.csv\"):\n",
    "        # Load hotspots data (crime points with cluster labels)\n",
    "        df = pd.read_csv(hotspots_csv, parse_dates=['datetime'])\n",
    "        df = df[df['cluster'] != -1]  # exclude noise\n",
    "\n",
    "        # Compute centroids and cluster weights\n",
    "        grouped = df.groupby('cluster').agg(\n",
    "            Latitude=('Latitude', 'mean'),\n",
    "            Longitude=('Longitude', 'mean'),\n",
    "            count=('cluster', 'count')\n",
    "        ).reset_index()\n",
    "        self.centroids = grouped[['Latitude', 'Longitude']].values\n",
    "        self.weights = grouped['count'].values\n",
    "\n",
    "        # Build BallTree on centroid coordinates (radians, haversine metric)\n",
    "        coords_rad = np.radians(self.centroids)\n",
    "        self.tree = BallTree(coords_rad, metric='haversine')\n",
    "\n",
    "    def get_time_risk(self, hour: int) -> float:\n",
    "        \"\"\"\n",
    "        Time-based risk modifier:\n",
    "        - Night (22-5): higher risk (0.5 multiplier)\n",
    "        - Commute (5-9, 17-22): moderate risk (0.8)\n",
    "        - Day (9-17): baseline (1.0)\n",
    "        \"\"\"\n",
    "        if hour >= 22 or hour < 5:\n",
    "            return 0.5\n",
    "        if 5 <= hour < 9 or 17 <= hour < 22:\n",
    "            return 0.8\n",
    "        return 1.0\n",
    "\n",
    "    def compute_safety_score(self, latitude: float, longitude: float, time_input) -> float:\n",
    "        \"\"\"\n",
    "        Compute safety score for a point (latitude, longitude) and a time.\n",
    "        time_input can be a datetime.time or string 'HH:MM'.\n",
    "        Returns a score between 1 (least safe) and 10 (most safe).\n",
    "        \"\"\"\n",
    "        # Parse time\n",
    "        if isinstance(time_input, str):\n",
    "            time_obj = datetime.strptime(time_input, \"%H:%M\").time()\n",
    "        else:\n",
    "            time_obj = time_input\n",
    "        hour = time_obj.hour\n",
    "\n",
    "        # Query nearest hotspot centroid\n",
    "        point_rad = np.radians([[latitude, longitude]])\n",
    "        dist, ind = self.tree.query(point_rad, k=1)\n",
    "        # Convert radians to km\n",
    "        dist_km = dist[0][0] * 6371.0088\n",
    "\n",
    "        # Base distance score (inverse relation)\n",
    "        distance_score = max(1.0, 10.0 - dist_km * 2.0)\n",
    "\n",
    "        # Apply time risk modifier\n",
    "        time_factor = self.get_time_risk(hour)\n",
    "        raw_score = distance_score * time_factor\n",
    "\n",
    "        # Clamp score to [1, 10]\n",
    "        score = min(max(round(raw_score, 2), 1.0), 10.0)\n",
    "        return score\n"
   ],
   "id": "57bae0d9aac04c3b",
   "outputs": [],
   "execution_count": 2
  },
  {
   "metadata": {
    "ExecuteTime": {
     "end_time": "2025-04-21T14:05:05.006063Z",
     "start_time": "2025-04-21T14:05:04.865489Z"
    }
   },
   "cell_type": "code",
   "source": [
    "# Initialize model\n",
    "model = SafetyScoreModel(\"hotspots_with_labels_hdbscan.csv\")\n",
    "\n",
    "# Test coordinate and time\n",
    "lat, lon = 34.0375, -118.3506\n",
    "time = \"23:30\"\n",
    "\n",
    "# Compute safety score\n",
    "score = model.compute_safety_score(lat, lon, time)\n",
    "print(f\"Safety Score for ({lat}, {lon}) at {time}: {score}\")\n"
   ],
   "id": "ebf5f06804388deb",
   "outputs": [
    {
     "name": "stdout",
     "output_type": "stream",
     "text": [
      "Safety Score for (34.0375, -118.3506) at 23:30: 1.0\n"
     ]
    }
   ],
   "execution_count": 5
  }
 ],
 "metadata": {
  "kernelspec": {
   "display_name": "Python 3",
   "language": "python",
   "name": "python3"
  },
  "language_info": {
   "codemirror_mode": {
    "name": "ipython",
    "version": 2
   },
   "file_extension": ".py",
   "mimetype": "text/x-python",
   "name": "python",
   "nbconvert_exporter": "python",
   "pygments_lexer": "ipython2",
   "version": "2.7.6"
  }
 },
 "nbformat": 4,
 "nbformat_minor": 5
}
