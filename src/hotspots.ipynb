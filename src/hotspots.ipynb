{
 "cells": [
  {
   "cell_type": "code",
   "id": "initial_id",
   "metadata": {
    "collapsed": true,
    "ExecuteTime": {
     "end_time": "2025-04-21T13:50:27.083425Z",
     "start_time": "2025-04-21T13:50:26.641124Z"
    }
   },
   "source": [
    "import pandas as pd\n",
    "import numpy as np\n",
    "from sklearn.cluster import DBSCAN\n",
    "\n",
    "import folium\n",
    "from folium.plugins import MarkerCluster\n",
    "from IPython.display import IFrame\n",
    "import os\n"
   ],
   "outputs": [],
   "execution_count": 1
  },
  {
   "metadata": {
    "ExecuteTime": {
     "end_time": "2025-04-21T13:50:37.580054Z",
     "start_time": "2025-04-21T13:50:27.093759Z"
    }
   },
   "cell_type": "code",
   "source": [
    "# %%\n",
    "\n",
    "import hdbscan\n",
    "import time\n",
    "\n",
    "\n",
    "# %%\n",
    "# Load cleaned data\n",
    "df = pd.read_csv(\"../datasets/cleaned_crime_data3.csv\", parse_dates=['datetime'])\n",
    "\n",
    "# Check initial shape\n",
    "print(\"🔹 Initial data shape:\", df.shape)\n",
    "\n",
    "# Drop rows with missing coordinates\n",
    "df.dropna(subset=['Latitude', 'Longitude'], inplace=True)\n",
    "print(\"🔹 After dropping NaNs in coordinates:\", df.shape)\n",
    "\n",
    "# %%\n",
    "# 🔧 Optional Sampling for Faster Testing (disable this line to use all data)\n",
    "sample_size = 100_000  # Try 50_000 if it's still slow\n",
    "df_sampled = df.sample(sample_size, random_state=42) if df.shape[0] > sample_size else df.copy()\n",
    "print(f\"🔹 Using {df_sampled.shape[0]} points for clustering\")\n",
    "\n",
    "# Prepare coordinates in radians (lat/lon)\n",
    "coords = df_sampled[['Latitude', 'Longitude']].to_numpy()\n",
    "print(\"🔹 Coordinate array shape:\", coords.shape)\n",
    "\n",
    "# %%\n",
    "# Run HDBSCAN clustering\n",
    "print(\"⏳ Running HDBSCAN...\")\n",
    "start = time.time()\n",
    "\n",
    "clusterer = hdbscan.HDBSCAN(\n",
    "    min_cluster_size=30,  # play with this (e.g., 20–50) for more/fewer clusters\n",
    "    min_samples=10,\n",
    "    metric='haversine',\n",
    "    cluster_selection_epsilon=0.001,  # optional fine-tuning\n",
    "    algorithm='best'\n",
    ")\n",
    "df_sampled['cluster'] = clusterer.fit_predict(np.radians(coords))\n",
    "\n",
    "duration = round(time.time() - start, 2)\n",
    "print(f\"✅ HDBSCAN completed in {duration} seconds\")\n",
    "\n",
    "# %%\n",
    "# Cluster summary\n",
    "unique_clusters = np.unique(df_sampled['cluster'])\n",
    "print(\"🔹 Unique cluster labels:\", unique_clusters)\n",
    "print(\"🔹 Total clusters (excluding noise):\", len(unique_clusters) - (1 if -1 in unique_clusters else 0))\n",
    "\n",
    "# Filter real clusters (exclude noise = -1)\n",
    "hotspots = df_sampled[df_sampled['cluster'] != -1].copy()\n",
    "print(\"🔹 Hotspot records count:\", hotspots.shape[0])\n",
    "\n",
    "# %%\n",
    "# Save hotspots with cluster labels\n",
    "hotspot_file = \"hotspots_with_labels_hdbscan.csv\"\n",
    "hotspots.to_csv(hotspot_file, index=False)\n",
    "\n",
    "if os.path.exists(hotspot_file):\n",
    "    print(f\"✅ Saved hotspot points to {hotspot_file} ({os.path.getsize(hotspot_file)} bytes)\")\n",
    "else:\n",
    "    print(\"❌ Failed to save hotspot CSV file.\")\n",
    "\n",
    "# %%\n",
    "# Display top 5 largest clusters\n",
    "print(\"🔹 Top hotspot clusters:\")\n",
    "print(hotspots['cluster'].value_counts().head())\n"
   ],
   "id": "aab33c6fa4df2de0",
   "outputs": [
    {
     "name": "stdout",
     "output_type": "stream",
     "text": [
      "🔹 Initial data shape: (751364, 6)\n",
      "🔹 After dropping NaNs in coordinates: (751364, 6)\n",
      "🔹 Using 100000 points for clustering\n",
      "🔹 Coordinate array shape: (100000, 2)\n",
      "⏳ Running HDBSCAN...\n"
     ]
    },
    {
     "name": "stderr",
     "output_type": "stream",
     "text": [
      "/Users/prastabmukhopadhyay/PycharmProjects/SafeLanes/.venv/lib/python3.12/site-packages/sklearn/utils/deprecation.py:151: FutureWarning: 'force_all_finite' was renamed to 'ensure_all_finite' in 1.6 and will be removed in 1.8.\n",
      "  warnings.warn(\n",
      "/Users/prastabmukhopadhyay/PycharmProjects/SafeLanes/.venv/lib/python3.12/site-packages/sklearn/utils/deprecation.py:151: FutureWarning: 'force_all_finite' was renamed to 'ensure_all_finite' in 1.6 and will be removed in 1.8.\n",
      "  warnings.warn(\n"
     ]
    },
    {
     "name": "stdout",
     "output_type": "stream",
     "text": [
      "✅ HDBSCAN completed in 9.62 seconds\n",
      "🔹 Unique cluster labels: [0 1 2 3]\n",
      "🔹 Total clusters (excluding noise): 4\n",
      "🔹 Hotspot records count: 100000\n",
      "✅ Saved hotspot points to hotspots_with_labels_hdbscan.csv (8072703 bytes)\n",
      "🔹 Top hotspot clusters:\n",
      "cluster\n",
      "3    43944\n",
      "1    39604\n",
      "2    16364\n",
      "0       88\n",
      "Name: count, dtype: int64\n"
     ]
    }
   ],
   "execution_count": 2
  },
  {
   "metadata": {
    "ExecuteTime": {
     "end_time": "2025-04-21T13:51:15.807064Z",
     "start_time": "2025-04-21T13:50:37.683726Z"
    }
   },
   "cell_type": "code",
   "source": [
    "\n",
    "\n",
    "\n",
    "center = [hotspots['Latitude'].mean(), hotspots['Longitude'].mean()]\n",
    "m = folium.Map(location=center, zoom_start=11, tiles='CartoDB positron')\n",
    "\n",
    "mc = MarkerCluster().add_to(m)\n",
    "for _, row in hotspots.iterrows():\n",
    "    folium.CircleMarker(\n",
    "        location=[row['Latitude'], row['Longitude']],\n",
    "        radius=3,\n",
    "        color='crimson',\n",
    "        fill=True,\n",
    "        fill_opacity=0.6,\n",
    "        popup=f\"{row['city']} | {row['crime_category']}\"\n",
    "    ).add_to(mc)\n",
    "\n",
    "# Save and display\n",
    "filepath = \"crime_hotspots_map.html\"\n",
    "m.save(filepath)\n",
    "\n",
    "# Only if file exists\n",
    "if os.path.exists(filepath):\n",
    "    display(IFrame(filepath, width=700, height=500))\n",
    "else:\n",
    "    print(\"Map file was not created.\")\n"
   ],
   "id": "73333ec8748c06a6",
   "outputs": [
    {
     "data": {
      "text/plain": [
       "<IPython.lib.display.IFrame at 0x32c12d370>"
      ],
      "text/html": [
       "\n",
       "        <iframe\n",
       "            width=\"700\"\n",
       "            height=\"500\"\n",
       "            src=\"crime_hotspots_map.html\"\n",
       "            frameborder=\"0\"\n",
       "            allowfullscreen\n",
       "            \n",
       "        ></iframe>\n",
       "        "
      ]
     },
     "metadata": {},
     "output_type": "display_data"
    }
   ],
   "execution_count": 3
  }
 ],
 "metadata": {
  "kernelspec": {
   "display_name": "Python 3",
   "language": "python",
   "name": "python3"
  },
  "language_info": {
   "codemirror_mode": {
    "name": "ipython",
    "version": 2
   },
   "file_extension": ".py",
   "mimetype": "text/x-python",
   "name": "python",
   "nbconvert_exporter": "python",
   "pygments_lexer": "ipython2",
   "version": "2.7.6"
  }
 },
 "nbformat": 4,
 "nbformat_minor": 5
}
