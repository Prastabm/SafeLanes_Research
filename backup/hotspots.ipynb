{
 "cells": [
  {
   "cell_type": "code",
   "id": "initial_id",
   "metadata": {
    "collapsed": true,
    "ExecuteTime": {
     "end_time": "2025-04-21T09:34:22.629035Z",
     "start_time": "2025-04-21T09:34:22.198666Z"
    }
   },
   "source": [
    "import pandas as pd\n",
    "import numpy as np\n",
    "from sklearn.cluster import DBSCAN\n",
    "\n",
    "import folium\n",
    "from folium.plugins import MarkerCluster\n",
    "from IPython.display import IFrame\n",
    "import os\n"
   ],
   "outputs": [],
   "execution_count": 1
  },
  {
   "metadata": {
    "ExecuteTime": {
     "end_time": "2025-04-21T09:34:42.838447Z",
     "start_time": "2025-04-21T09:34:22.709339Z"
    }
   },
   "cell_type": "code",
   "source": [
    "# Load cleaned data\n",
    "df = pd.read_csv(\"../datasets/cleaned_crime_data2.csv\", parse_dates=['datetime'])\n",
    "df.dropna(subset=['Latitude', 'Longitude'], inplace=True)\n",
    "\n",
    "# Prepare coords for DBSCAN (in radians for haversine)\n",
    "coords = df[['Latitude', 'Longitude']].to_numpy()\n",
    "kms_per_radian = 6371.0088\n",
    "epsilon = 0.5 / kms_per_radian   # ~0.5 km\n",
    "\n",
    "# Run DBSCAN\n",
    "db = DBSCAN(eps=epsilon, min_samples=20, algorithm='ball_tree', metric='haversine')\n",
    "df['cluster'] = db.fit_predict(np.radians(coords))\n",
    "\n",
    "# Keep only real clusters (exclude noise = -1)\n",
    "hotspots = df[df['cluster'] != -1].copy()\n",
    "hotspots.cluster.value_counts().head()\n"
   ],
   "id": "aab33c6fa4df2de0",
   "outputs": [
    {
     "data": {
      "text/plain": [
       "cluster\n",
       "2    311426\n",
       "0    122983\n",
       "3     11276\n",
       "4      3405\n",
       "7       331\n",
       "Name: count, dtype: int64"
      ]
     },
     "execution_count": 2,
     "metadata": {},
     "output_type": "execute_result"
    }
   ],
   "execution_count": 2
  },
  {
   "metadata": {
    "ExecuteTime": {
     "end_time": "2025-04-21T09:38:08.045131Z",
     "start_time": "2025-04-21T09:34:43.006873Z"
    }
   },
   "cell_type": "code",
   "source": [
    "\n",
    "\n",
    "\n",
    "center = [hotspots['Latitude'].mean(), hotspots['Longitude'].mean()]\n",
    "m = folium.Map(location=center, zoom_start=11, tiles='CartoDB positron')\n",
    "\n",
    "mc = MarkerCluster().add_to(m)\n",
    "for _, row in hotspots.iterrows():\n",
    "    folium.CircleMarker(\n",
    "        location=[row['Latitude'], row['Longitude']],\n",
    "        radius=3,\n",
    "        color='crimson',\n",
    "        fill=True,\n",
    "        fill_opacity=0.6,\n",
    "        popup=f\"{row['city']} | {row['crime_category']}\"\n",
    "    ).add_to(mc)\n",
    "\n",
    "# Save and display\n",
    "filepath = \"crime_hotspots_map.html\"\n",
    "m.save(filepath)\n",
    "\n",
    "# Only if file exists\n",
    "if os.path.exists(filepath):\n",
    "    display(IFrame(filepath, width=700, height=500))\n",
    "else:\n",
    "    print(\"Map file was not created.\")\n"
   ],
   "id": "73333ec8748c06a6",
   "outputs": [
    {
     "data": {
      "text/plain": [
       "<IPython.lib.display.IFrame at 0x10cbae0f0>"
      ],
      "text/html": [
       "\n",
       "        <iframe\n",
       "            width=\"700\"\n",
       "            height=\"500\"\n",
       "            src=\"crime_hotspots_map.html\"\n",
       "            frameborder=\"0\"\n",
       "            allowfullscreen\n",
       "            \n",
       "        ></iframe>\n",
       "        "
      ]
     },
     "metadata": {},
     "output_type": "display_data"
    }
   ],
   "execution_count": 3
  }
 ],
 "metadata": {
  "kernelspec": {
   "display_name": "Python 3",
   "language": "python",
   "name": "python3"
  },
  "language_info": {
   "codemirror_mode": {
    "name": "ipython",
    "version": 2
   },
   "file_extension": ".py",
   "mimetype": "text/x-python",
   "name": "python",
   "nbconvert_exporter": "python",
   "pygments_lexer": "ipython2",
   "version": "2.7.6"
  }
 },
 "nbformat": 4,
 "nbformat_minor": 5
}
